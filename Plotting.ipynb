{
 "cells": [
  {
   "cell_type": "markdown",
   "metadata": {},
   "source": [
    "# Графичко прикажување на зададените и прочитаните точки  од AniCNC за определен цртеж прикажан во сл. 1\n",
    "\n",
    "## Упатство за користење:\n",
    "Кодот е поделен по секции. Секоја секција се извршува така што ќе кликнете на неа и ќе стиснете **\"Ctrl + Enter\"**. Секциите се секвенцијално зависни, така што на почеток мора од горе надоле да извршат последователно за да се прикажат сите графици. Доколку сакате да избегнете да мора сите секции да ги извршувате можете да го кликнете горното **\"Run\"** копче и на тој начин ќе се извршат сите одеднаш.\n",
    "\n",
    "![Упатство 1](figs\\fig1.png)\n",
    "\n",
    "Иницијално графиците се исцртуваат за фајлот \"test2 128 1000 Write\". Доколку сакате да ги прикажете графиците за различен фајл тогаш ќе треба да го напишете името на фајлот во првата секција на следниов начин:\n",
    "```python\n",
    "file_name = \"ime_na_fajl\"\n",
    "```\n",
    "Можете да изберете помеѓу следниве фајлови:\n",
    "- test2 128 1000 Write\n",
    "- test2 128 2000 Write\n",
    "- test2 128 1000 Read\n",
    "- test2 128 2000 Read\n",
    "- test2 256 1000 Write\n",
    "- test2 256 2000 Write\n",
    "- test2 256 1000 Read\n",
    "- test2 256 2000 Read"
   ]
  },
  {
   "cell_type": "markdown",
   "metadata": {},
   "source": [
    "### Секција за дефиниција на кој фајл ќе се работи. Стиснете на секција и потоа стиснете Ctrl + Enter. Доколку се појави бројче на десната страна од неа, тоа значи дека извршувањето било успешно\n",
    "\n",
    "![Упатство 2](figs\\fig2.png)"
   ]
  },
  {
   "cell_type": "code",
   "execution_count": 3,
   "metadata": {},
   "outputs": [],
   "source": [
    "file_name = \"test2 128 1000 Write\""
   ]
  },
  {
   "cell_type": "markdown",
   "metadata": {},
   "source": [
    "### Ctrl + Enter"
   ]
  },
  {
   "cell_type": "code",
   "execution_count": 4,
   "metadata": {},
   "outputs": [],
   "source": [
    "%matplotlib qt\n",
    "import numpy as np\n",
    "from matplotlib import pyplot as plt\n",
    "import pandas as pd"
   ]
  },
  {
   "cell_type": "markdown",
   "metadata": {},
   "source": [
    "### Ctrl + Enter"
   ]
  },
  {
   "cell_type": "code",
   "execution_count": 5,
   "metadata": {},
   "outputs": [],
   "source": [
    "df = pd.read_excel(\"Test2\\\\Points.xlsx\", sheet_name=file_name)\n",
    "x = (df['X-axis'] - df['X-axis'][0]).values\n",
    "y = (df['Y-axis'] - df['Y-axis'][0]).values"
   ]
  },
  {
   "attachments": {},
   "cell_type": "markdown",
   "metadata": {},
   "source": [
    "# Прикажување на цртежот и  брзината(забрзувањето) на секоја од оските\n",
    "Со извршување на секцијата ќе ви се појави во долното мени прозорче каде ќе се исцрта графикот. Прозорчето има интерактивно мени така што на графикот можат да се: исчитуваат вредностите на секоја од точките, зумира, придвижува низ графикот, да се зачува графикот како слика итн.\n",
    "\n",
    "![Упатство 3](figs\\fig3.png)"
   ]
  },
  {
   "cell_type": "markdown",
   "metadata": {},
   "source": [
    "### *Исцртување на цртежот за сите пратени точки од компјутер до мотор.*\n",
    "*Сите точки од rapid move движењето беа игнорирани.\n",
    "\n",
    "### Ctrl + Enter"
   ]
  },
  {
   "cell_type": "code",
   "execution_count": 8,
   "metadata": {},
   "outputs": [
    {
     "data": {
      "text/plain": [
       "Text(0, 0.5, 'Y-axis[mm(rev.)]')"
      ]
     },
     "execution_count": 8,
     "metadata": {},
     "output_type": "execute_result"
    }
   ],
   "source": [
    "plt.figure(figsize=(7.5, 5.5))\n",
    "plt.scatter(x, y, s=0.5)\n",
    "plt.grid()\n",
    "plt.title(\"Plotting x vs. y\")\n",
    "plt.xlabel(\"X-axis[mm(rev.)]\")\n",
    "plt.ylabel(\"Y-axis[mm(rev.)]\")"
   ]
  },
  {
   "cell_type": "markdown",
   "metadata": {},
   "source": [
    "### *Исцртување на брзината на x оска.*\n",
    "*Сите точки од rapid move движењето беа игнорирани.\n",
    "\n",
    "### Ctrl + Enter"
   ]
  },
  {
   "cell_type": "code",
   "execution_count": 9,
   "metadata": {},
   "outputs": [],
   "source": [
    "plt.figure(figsize=(7.5, 5.5))\n",
    "dt = int(file_name[6:9])/8000 # Delta_t between two points((128 samples)/(8000Hz))\n",
    "dx = (x[1:] - x[:-1])/(dt*4000) # 4000 encoder counts\n",
    "dx = dx[np.abs(dx) <2*np.std(dx)]\n",
    "t = dt * np.arange(dx.shape[0]) # Time between rapid movements is ignored\n",
    "plt.plot(t, dx)\n",
    "plt.title(\"Velocity of x_axis with filtered rapid move transitions\")\n",
    "plt.xlabel(\"Time [s]\")\n",
    "plt.ylabel(r\"Velocity [$\\frac{mm}{s}(\\frac{rev.}{s})$]\")\n",
    "plt.grid()"
   ]
  },
  {
   "cell_type": "markdown",
   "metadata": {},
   "source": [
    "### *Исцртување на забрзувањето на x оска.*\n",
    "*Сите точки од rapid move движењето беа игнорирани.\n",
    "\n",
    "### Ctrl + Enter"
   ]
  },
  {
   "cell_type": "code",
   "execution_count": 10,
   "metadata": {},
   "outputs": [],
   "source": [
    "plt.figure(figsize=(7.5, 5.5))\n",
    "ddx = (dx[1:] - dx[:-1])/dt\n",
    "# dx = dx[np.abs(dx) <2*np.std(dx)]\n",
    "plt.plot(t[:-1], ddx)\n",
    "plt.title(\"Acceleration of x_axis with filtered rapid move transitions\")\n",
    "plt.xlabel(\"Time [s]\")\n",
    "plt.ylabel(r\"Acceleration [$\\frac{mm}{s^2}(\\frac{rev.}{s^2})$]\")\n",
    "plt.grid()"
   ]
  },
  {
   "cell_type": "markdown",
   "metadata": {},
   "source": [
    "### *Исцртување на брзината на y оска.*\n",
    "*Сите точки од rapid move движењето беа игнорирани.\n",
    "\n",
    "### Ctrl + Enter"
   ]
  },
  {
   "cell_type": "code",
   "execution_count": 13,
   "metadata": {},
   "outputs": [],
   "source": [
    "plt.figure(figsize=(7.5, 5.5))\n",
    "dy = (y[1:] - y[:-1])/(dt*4000) # 4000 encoder counts\n",
    "dy = dy[np.abs(dy) <2*np.std(dy)]\n",
    "plt.plot(t, dy)\n",
    "plt.title(\"Velocity of y_axis with filtered rapid move transitions\")\n",
    "plt.xlabel(\"Time [s]\")\n",
    "plt.ylabel(r\"Velocity [$\\frac{mm}{s}(\\frac{rev.}{s})$]\")\n",
    "plt.grid()"
   ]
  },
  {
   "cell_type": "markdown",
   "metadata": {},
   "source": [
    "### *Исцртување на забрзувањето на y оска.*\n",
    "*Сите точки од rapid move движењето беа игнорирани.\n",
    "\n",
    "### Ctrl + Enter"
   ]
  },
  {
   "cell_type": "code",
   "execution_count": 12,
   "metadata": {},
   "outputs": [],
   "source": [
    "plt.figure(figsize=(7.5, 5.5))\n",
    "ddy = (dy[1:] - dy[:-1])/dt\n",
    "# dx = dx[np.abs(dx) <2*np.std(dx)]\n",
    "plt.plot(t[:-1], ddy)\n",
    "plt.title(\"Acceleration of y_axis with filtered rapid move transitions\")\n",
    "plt.xlabel(\"Time [s]\")\n",
    "plt.ylabel(r\"Acceleration [$\\frac{mm}{s^2}(\\frac{rev.}{s^2})$]\")\n",
    "plt.grid()"
   ]
  }
 ],
 "metadata": {
  "kernelspec": {
   "display_name": "Python 3",
   "language": "python",
   "name": "python3"
  },
  "language_info": {
   "codemirror_mode": {
    "name": "ipython",
    "version": 3
   },
   "file_extension": ".py",
   "mimetype": "text/x-python",
   "name": "python",
   "nbconvert_exporter": "python",
   "pygments_lexer": "ipython3",
   "version": "3.6.8"
  }
 },
 "nbformat": 4,
 "nbformat_minor": 2
}
